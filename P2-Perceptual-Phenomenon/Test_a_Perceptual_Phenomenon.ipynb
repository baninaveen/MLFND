{
 "cells": [
  {
   "cell_type": "markdown",
   "metadata": {},
   "source": [
    "# Test a Perceptual Phenomenon"
   ]
  },
  {
   "cell_type": "markdown",
   "metadata": {},
   "source": [
    "### Import the dataset"
   ]
  },
  {
   "cell_type": "code",
   "execution_count": 1,
   "metadata": {},
   "outputs": [
    {
     "data": {
      "text/html": [
       "<div>\n",
       "<style>\n",
       "    .dataframe thead tr:only-child th {\n",
       "        text-align: right;\n",
       "    }\n",
       "\n",
       "    .dataframe thead th {\n",
       "        text-align: left;\n",
       "    }\n",
       "\n",
       "    .dataframe tbody tr th {\n",
       "        vertical-align: top;\n",
       "    }\n",
       "</style>\n",
       "<table border=\"1\" class=\"dataframe\">\n",
       "  <thead>\n",
       "    <tr style=\"text-align: right;\">\n",
       "      <th></th>\n",
       "      <th>Congruent</th>\n",
       "      <th>Incongruent</th>\n",
       "      <th>Subject</th>\n",
       "    </tr>\n",
       "  </thead>\n",
       "  <tbody>\n",
       "    <tr>\n",
       "      <th>0</th>\n",
       "      <td>12.079</td>\n",
       "      <td>19.278</td>\n",
       "      <td>1</td>\n",
       "    </tr>\n",
       "    <tr>\n",
       "      <th>1</th>\n",
       "      <td>16.791</td>\n",
       "      <td>18.741</td>\n",
       "      <td>2</td>\n",
       "    </tr>\n",
       "    <tr>\n",
       "      <th>2</th>\n",
       "      <td>9.564</td>\n",
       "      <td>21.214</td>\n",
       "      <td>3</td>\n",
       "    </tr>\n",
       "    <tr>\n",
       "      <th>3</th>\n",
       "      <td>8.630</td>\n",
       "      <td>15.687</td>\n",
       "      <td>4</td>\n",
       "    </tr>\n",
       "    <tr>\n",
       "      <th>4</th>\n",
       "      <td>14.669</td>\n",
       "      <td>22.803</td>\n",
       "      <td>5</td>\n",
       "    </tr>\n",
       "    <tr>\n",
       "      <th>5</th>\n",
       "      <td>12.238</td>\n",
       "      <td>20.878</td>\n",
       "      <td>6</td>\n",
       "    </tr>\n",
       "    <tr>\n",
       "      <th>6</th>\n",
       "      <td>14.692</td>\n",
       "      <td>24.572</td>\n",
       "      <td>7</td>\n",
       "    </tr>\n",
       "    <tr>\n",
       "      <th>7</th>\n",
       "      <td>8.987</td>\n",
       "      <td>17.394</td>\n",
       "      <td>8</td>\n",
       "    </tr>\n",
       "    <tr>\n",
       "      <th>8</th>\n",
       "      <td>9.401</td>\n",
       "      <td>20.762</td>\n",
       "      <td>9</td>\n",
       "    </tr>\n",
       "    <tr>\n",
       "      <th>9</th>\n",
       "      <td>14.480</td>\n",
       "      <td>26.282</td>\n",
       "      <td>10</td>\n",
       "    </tr>\n",
       "    <tr>\n",
       "      <th>10</th>\n",
       "      <td>22.328</td>\n",
       "      <td>24.524</td>\n",
       "      <td>11</td>\n",
       "    </tr>\n",
       "    <tr>\n",
       "      <th>11</th>\n",
       "      <td>15.298</td>\n",
       "      <td>18.644</td>\n",
       "      <td>12</td>\n",
       "    </tr>\n",
       "    <tr>\n",
       "      <th>12</th>\n",
       "      <td>15.073</td>\n",
       "      <td>17.510</td>\n",
       "      <td>13</td>\n",
       "    </tr>\n",
       "    <tr>\n",
       "      <th>13</th>\n",
       "      <td>16.929</td>\n",
       "      <td>20.330</td>\n",
       "      <td>14</td>\n",
       "    </tr>\n",
       "    <tr>\n",
       "      <th>14</th>\n",
       "      <td>18.200</td>\n",
       "      <td>35.255</td>\n",
       "      <td>15</td>\n",
       "    </tr>\n",
       "    <tr>\n",
       "      <th>15</th>\n",
       "      <td>12.130</td>\n",
       "      <td>22.158</td>\n",
       "      <td>16</td>\n",
       "    </tr>\n",
       "    <tr>\n",
       "      <th>16</th>\n",
       "      <td>18.495</td>\n",
       "      <td>25.139</td>\n",
       "      <td>17</td>\n",
       "    </tr>\n",
       "    <tr>\n",
       "      <th>17</th>\n",
       "      <td>10.639</td>\n",
       "      <td>20.429</td>\n",
       "      <td>18</td>\n",
       "    </tr>\n",
       "    <tr>\n",
       "      <th>18</th>\n",
       "      <td>11.344</td>\n",
       "      <td>17.425</td>\n",
       "      <td>19</td>\n",
       "    </tr>\n",
       "    <tr>\n",
       "      <th>19</th>\n",
       "      <td>12.369</td>\n",
       "      <td>34.288</td>\n",
       "      <td>20</td>\n",
       "    </tr>\n",
       "    <tr>\n",
       "      <th>20</th>\n",
       "      <td>12.944</td>\n",
       "      <td>23.894</td>\n",
       "      <td>21</td>\n",
       "    </tr>\n",
       "    <tr>\n",
       "      <th>21</th>\n",
       "      <td>14.233</td>\n",
       "      <td>17.960</td>\n",
       "      <td>22</td>\n",
       "    </tr>\n",
       "    <tr>\n",
       "      <th>22</th>\n",
       "      <td>19.710</td>\n",
       "      <td>22.058</td>\n",
       "      <td>23</td>\n",
       "    </tr>\n",
       "    <tr>\n",
       "      <th>23</th>\n",
       "      <td>16.004</td>\n",
       "      <td>21.157</td>\n",
       "      <td>24</td>\n",
       "    </tr>\n",
       "  </tbody>\n",
       "</table>\n",
       "</div>"
      ],
      "text/plain": [
       "    Congruent  Incongruent  Subject\n",
       "0      12.079       19.278        1\n",
       "1      16.791       18.741        2\n",
       "2       9.564       21.214        3\n",
       "3       8.630       15.687        4\n",
       "4      14.669       22.803        5\n",
       "5      12.238       20.878        6\n",
       "6      14.692       24.572        7\n",
       "7       8.987       17.394        8\n",
       "8       9.401       20.762        9\n",
       "9      14.480       26.282       10\n",
       "10     22.328       24.524       11\n",
       "11     15.298       18.644       12\n",
       "12     15.073       17.510       13\n",
       "13     16.929       20.330       14\n",
       "14     18.200       35.255       15\n",
       "15     12.130       22.158       16\n",
       "16     18.495       25.139       17\n",
       "17     10.639       20.429       18\n",
       "18     11.344       17.425       19\n",
       "19     12.369       34.288       20\n",
       "20     12.944       23.894       21\n",
       "21     14.233       17.960       22\n",
       "22     19.710       22.058       23\n",
       "23     16.004       21.157       24"
      ]
     },
     "execution_count": 1,
     "metadata": {},
     "output_type": "execute_result"
    }
   ],
   "source": [
    "import os\n",
    "import pandas\n",
    "\"\"\"\n",
    "importing the libraries,\n",
    "reading stroopdata.csv file from the working directory\n",
    "adding subject as an Independant varible\n",
    "\"\"\"\n",
    "file = pandas.read_csv(os.getcwd() + '\\data\\stroopdata.csv')\n",
    "file['Subject'] = file.index + 1\n",
    "file ## printing the output data"
   ]
  },
  {
   "cell_type": "markdown",
   "metadata": {},
   "source": [
    "**Question 1** What is our independent variable? What is our dependent variable?"
   ]
  },
  {
   "cell_type": "markdown",
   "metadata": {},
   "source": [
    "**Answer:** Dependant variables are changes it's values based on other variable(s). Where Independant variables are the measure points based on that we are permorming/predicting/calculating the statistiacal methods.\n",
    "\n",
    "In given experiment the dependant variable is the response time in seconds, while the independant variable is the word condition (Congruent or incongruent)."
   ]
  },
  {
   "cell_type": "markdown",
   "metadata": {},
   "source": [
    "**Question 2** What is an appropriate set of hypotheses for this task? What kind of statistical test do you expect to perform? Justify your choices."
   ]
  },
  {
   "cell_type": "markdown",
   "metadata": {},
   "source": [
    "**Answer:** There are many hypotheses tasks, we are understanding two types of hypotheses tasks.\n",
    "\n",
    "**Null Hypothesis** (H0 = μi - μc = 0): \n",
    "\n",
    "There is no significance difference between the current mean value and the mean value after the intervention is given. \n",
    "\n",
    "H0: The mean time taken for finding the ink colors in incongruent condition for the population is lower or equal to mean time taken for finding the ink colors in congruent condition for the population. It means that both congruent and incongruent test is same.\n",
    "\n",
    "Let's take an example of the team who are completing the project with the number of sprints (~milestones of the project). The mean time to complete the sprint in incongruent condition for the team is less then or equal to the mean time for completing the sprint in congruent condition for the team. It means that there is no effect to complete the project in both condition, no relationship to complete the project and with the two conditions. Mean for this example is the average time to complete the sprint.\n",
    "\n",
    "\n",
    "**Aleternative Hypothesis** (Ha = μi - μc ≠ 0): \n",
    "\n",
    "There is significance difference between the the current mean value and the mean value after the intervention given on the test data. \n",
    "\n",
    "Let's take the same example (completion of project) to understand the Alternative Hypothesis, we are know the some information related to team members in the project. Some team players have more skills and others are freshers, it will directly affect in the completion of the project in both condition. Alternative hypothesis is opposite of the null hypothesis.\n",
    "\n",
    "We do not have any population mean or population standard deviation z-test will not be applied here. One tail t-test (dependent test) is appropriate statistical test for this task as the same subjects (participants) are assigned in two different conditions(congruent and incongruent). We can reject the null hypothesis if the test is significant at probability 0.05 (5%)."
   ]
  },
  {
   "cell_type": "markdown",
   "metadata": {},
   "source": [
    "**Question 3** Report some descriptive statistics regarding this dataset. Include at least one measure of central tendency and at least one measure of variability."
   ]
  },
  {
   "cell_type": "markdown",
   "metadata": {},
   "source": [
    "**Answer:** I have found following for congruent data, mean value is: 14.05, median is: 14.3565, standard deviation is: 3.56; for incongruent data mean value is 22.02, median is: 21.0175, standard deviation: 4.8."
   ]
  },
  {
   "cell_type": "code",
   "execution_count": 2,
   "metadata": {
    "collapsed": true
   },
   "outputs": [],
   "source": [
    "congruent = file['Congruent']\n",
    "incongruent = file['Incongruent']\n",
    "subject = file['Subject']"
   ]
  },
  {
   "cell_type": "code",
   "execution_count": 3,
   "metadata": {},
   "outputs": [
    {
     "name": "stdout",
     "output_type": "stream",
     "text": [
      "Mean value for Congruent is:\n"
     ]
    },
    {
     "data": {
      "text/plain": [
       "14.05"
      ]
     },
     "execution_count": 3,
     "metadata": {},
     "output_type": "execute_result"
    }
   ],
   "source": [
    "congruent_mean = congruent.mean()\n",
    "print(\"Mean value for Congruent is:\")\n",
    "round(congruent_mean, 2)"
   ]
  },
  {
   "cell_type": "code",
   "execution_count": 4,
   "metadata": {},
   "outputs": [
    {
     "name": "stdout",
     "output_type": "stream",
     "text": [
      "Median value for Congruent is:\n"
     ]
    },
    {
     "data": {
      "text/plain": [
       "14.3565"
      ]
     },
     "execution_count": 4,
     "metadata": {},
     "output_type": "execute_result"
    }
   ],
   "source": [
    "congruent_median = congruent.median()\n",
    "print(\"Median value for Congruent is:\")\n",
    "congruent_median"
   ]
  },
  {
   "cell_type": "code",
   "execution_count": 5,
   "metadata": {},
   "outputs": [
    {
     "name": "stdout",
     "output_type": "stream",
     "text": [
      "Standard deviation for the congruent:\n"
     ]
    },
    {
     "data": {
      "text/plain": [
       "3.56"
      ]
     },
     "execution_count": 5,
     "metadata": {},
     "output_type": "execute_result"
    }
   ],
   "source": [
    "congruent_sd = congruent.std()\n",
    "print(\"Standard deviation for the congruent:\")\n",
    "round(congruent_sd, 2)"
   ]
  },
  {
   "cell_type": "code",
   "execution_count": 6,
   "metadata": {},
   "outputs": [
    {
     "name": "stdout",
     "output_type": "stream",
     "text": [
      "Mean value of Incongruent is:\n"
     ]
    },
    {
     "data": {
      "text/plain": [
       "22.02"
      ]
     },
     "execution_count": 6,
     "metadata": {},
     "output_type": "execute_result"
    }
   ],
   "source": [
    "incongruent_mean = incongruent.mean()\n",
    "print(\"Mean value of Incongruent is:\")\n",
    "round(incongruent_mean, 2)"
   ]
  },
  {
   "cell_type": "code",
   "execution_count": 7,
   "metadata": {},
   "outputs": [
    {
     "name": "stdout",
     "output_type": "stream",
     "text": [
      "Median value of Incongruent is:\n"
     ]
    },
    {
     "data": {
      "text/plain": [
       "21.0175"
      ]
     },
     "execution_count": 7,
     "metadata": {},
     "output_type": "execute_result"
    }
   ],
   "source": [
    "incongruent_median = incongruent.median()\n",
    "print(\"Median value of Incongruent is:\")\n",
    "incongruent_median"
   ]
  },
  {
   "cell_type": "code",
   "execution_count": 8,
   "metadata": {},
   "outputs": [
    {
     "name": "stdout",
     "output_type": "stream",
     "text": [
      "Standard deviation for the incongruent:\n"
     ]
    },
    {
     "data": {
      "text/plain": [
       "4.8"
      ]
     },
     "execution_count": 8,
     "metadata": {},
     "output_type": "execute_result"
    }
   ],
   "source": [
    "incongruent_sd = incongruent.std()\n",
    "print(\"Standard deviation for the incongruent:\")\n",
    "round(incongruent_sd, 2)"
   ]
  },
  {
   "cell_type": "markdown",
   "metadata": {},
   "source": [
    "**Question 4** Provide one or two visualizations that show the distribution of the sample data. Write one or two sentences noting what you observe about the plot or plots."
   ]
  },
  {
   "cell_type": "markdown",
   "metadata": {},
   "source": [
    "**Answer:** As per the graph the congrunet word samples have the distribution time interval in 8 to 22 seconds, while incongruent time interval is between 14 to 28, which is higher than the congruent time interval. Incongruent time interval have one outlier in 35 other outlier is around 34."
   ]
  },
  {
   "cell_type": "code",
   "execution_count": 9,
   "metadata": {
    "collapsed": true
   },
   "outputs": [],
   "source": [
    "\"\"\"\n",
    "importing the libraries\n",
    "\"\"\"\n",
    "import numpy as np\n",
    "import matplotlib.pyplot as plt"
   ]
  },
  {
   "cell_type": "code",
   "execution_count": 10,
   "metadata": {},
   "outputs": [
    {
     "data": {
      "image/png": "[encoded data removed]",
      "text/plain": [
       "<matplotlib.figure.Figure at 0x42edf2e390>"
      ]
     },
     "metadata": {},
     "output_type": "display_data"
    }
   ],
   "source": [
    "# formatting ticks on x and y axis\n",
    "plt.xticks(np.arange(min(subject), max(subject)+1, 1.0))\n",
    "plt.yticks(np.arange(0, 35, 2))\n",
    "# plotting the points\n",
    "plt.scatter(subject, congruent)\n",
    "# labelling the axises\n",
    "plt.xlabel('Subject numbers')\n",
    "plt.ylabel('Completion time (seconds)')\n",
    "# setting the axis same for both graph\n",
    "plt.xlim([0,24])\n",
    "plt.ylim([0,35])\n",
    "# displaying the graph\n",
    "plt.show()"
   ]
  },
  {
   "cell_type": "code",
   "execution_count": 11,
   "metadata": {},
   "outputs": [
    {
     "data": {
      "image/png": "[encoded data removed]",
      "text/plain": [
       "<matplotlib.figure.Figure at 0x42effcf5c0>"
      ]
     },
     "metadata": {},
     "output_type": "display_data"
    }
   ],
   "source": [
    "# formatting ticks on x and y axis\n",
    "plt.xticks(np.arange(min(subject), max(subject)+1, 1.0))\n",
    "plt.yticks(np.arange(0, 35, 2))\n",
    "# plotting the points\n",
    "plt.scatter(subject, incongruent, c=\"red\")\n",
    "# labelling the axises\n",
    "plt.xlabel('Number of participants')\n",
    "plt.ylabel('Completion time (seconds)')\n",
    "# setting the axis same for both graph\n",
    "plt.xlim([0,24])\n",
    "plt.ylim([0,35])\n",
    "# displaying the graph\n",
    "plt.show()"
   ]
  },
  {
   "cell_type": "markdown",
   "metadata": {},
   "source": [
    "**Question 5**  Now, perform the statistical test and report your results. What is your confidence level and your critical statistic value? Do you reject the null hypothesis or fail to reject it? Come to a conclusion in terms of the experiment task. Did the results match up with your expectations?"
   ]
  },
  {
   "cell_type": "markdown",
   "metadata": {},
   "source": [
    "**Answer:** Confidence level is 90% and critical statistic value is ±1711. Yes, I will reject the null hypothesis as the t value is greater then the t-critical value. Yes the result match up with my expectation.\n",
    "\n",
    "t_statistics > t-critical (8.0207 > 1.711)"
   ]
  },
  {
   "cell_type": "code",
   "execution_count": 12,
   "metadata": {},
   "outputs": [
    {
     "data": {
      "text/plain": [
       "8.0207"
      ]
     },
     "execution_count": 12,
     "metadata": {},
     "output_type": "execute_result"
    }
   ],
   "source": [
    "from math import sqrt\n",
    "\n",
    "\"\"\"\n",
    "t = PE/(s/√n)\n",
    "where t is t-statistics\n",
    "PE is point of estimation (PE = μi-μc)\n",
    "SD is standard deviation (σ = √(Σ((1/n)(μi-μc)2))\n",
    "n is size of data\n",
    "\"\"\" \n",
    "\n",
    "# point of estimation PE = μi-μc\n",
    "PE = incongruent_mean - congruent_mean\n",
    "\n",
    "# sample difference\n",
    "file['difference'] = file['Incongruent'] - file['Congruent']\n",
    "\n",
    "# differnce from the mean\n",
    "difference_from_mean = file['difference'] - file['difference'].mean()\n",
    "file['squared_difference'] = difference_from_mean * difference_from_mean\n",
    "\n",
    "# sum of squered difference\n",
    "sum_of_squered_diff = file['squared_difference'].sum()\n",
    "\n",
    "# varience = sum_of_squered_diff/(n-1)\n",
    "n = len(file)\n",
    "varience = sum_of_squered_diff/(n - 1)\n",
    "SD = sqrt(varience)# calculating standard deviation\n",
    "# finding t-statistics\n",
    "t = PE/(SD/sqrt(len(file)))\n",
    "round(t, 4)"
   ]
  },
  {
   "cell_type": "code",
   "execution_count": 13,
   "metadata": {},
   "outputs": [
    {
     "data": {
      "text/plain": [
       "0"
      ]
     },
     "execution_count": 13,
     "metadata": {},
     "output_type": "execute_result"
    }
   ],
   "source": [
    "from subprocess import call\n",
    "call(['python', '-m', 'nbconvert', 'Test_a_Perceptual_Phenomenon.ipynb'])"
   ]
  }
 ],
 "metadata": {
  "kernelspec": {
   "display_name": "Python 3",
   "language": "python",
   "name": "python3"
  },
  "language_info": {
   "codemirror_mode": {
    "name": "ipython",
    "version": 3
   },
   "file_extension": ".py",
   "mimetype": "text/x-python",
   "name": "python",
   "nbconvert_exporter": "python",
   "pygments_lexer": "ipython3",
   "version": "3.6.1"
  }
 },
 "nbformat": 4,
 "nbformat_minor": 2
}
