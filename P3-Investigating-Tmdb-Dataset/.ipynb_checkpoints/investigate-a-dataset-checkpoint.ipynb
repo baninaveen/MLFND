{
 "cells": [
  {
   "cell_type": "markdown",
   "metadata": {},
   "source": [
    "# Project: Investigate a TMDB Dataset\n",
    "\n",
    "## Table of Contents\n",
    "<ul>\n",
    "<li><a href=\"#intro\">Introduction</a></li>\n",
    "<li><a href=\"#wrangling\">Data Wrangling</a>\n",
    "    <ul>\n",
    "    <li><a href=\"#w1\">Removing duplicates rows and empty rows</a></li>\n",
    "    </ul>\n",
    "</li>\n",
    "<li><a href=\"#eda\">Exploratory Data Analysis</a>\n",
    "    <ul>\n",
    "    <li><a href= \"q1\">Which genres are most popular from year to year?</a></li>\n",
    "    <li><a href= \"q2\">What kinds of properties are associated with movies that have high revenues?</a></li>\n",
    "    <li><a href= \"q3\">How movies budget and popularity changes over the years?</a></li>\n",
    "    <li><a href= \"q4\">Top 5 grossing movies</a></li>\n",
    "    <li><a href= \"q5\">Top 5 casted actors</a></li>\n",
    "    <li><a href= \"q6\">Top 5 voted movies</a></li>\n",
    "    </ul>\n",
    "</li>\n",
    "<li><a href=\"#conclusions\">Conclusions</a></li>\n",
    "</ul>"
   ]
  },
  {
   "cell_type": "markdown",
   "metadata": {},
   "source": [
    "<a id='intro'></a>\n",
    "## Introduction"
   ]
  },
  {
   "cell_type": "code",
   "execution_count": 1,
   "metadata": {},
   "outputs": [
    {
     "name": "stdout",
     "output_type": "stream",
     "text": [
      "Populating the interactive namespace from numpy and matplotlib\n"
     ]
    }
   ],
   "source": [
    "# importing the libraries\n",
    "import numpy as np\n",
    "import pandas as pd\n",
    "import matplotlib.pyplot as plt\n",
    "import seaborn as sns\n",
    "%pylab inline"
   ]
  },
  {
   "cell_type": "markdown",
   "metadata": {},
   "source": [
    "<a id='wrangling'></a>\n",
    "## Data Wrangling\n",
    "\n",
    "### General Properties"
   ]
  },
  {
   "cell_type": "code",
   "execution_count": 2,
   "metadata": {},
   "outputs": [
    {
     "data": {
      "text/html": [
       "<div>\n",
       "<style>\n",
       "    .dataframe thead tr:only-child th {\n",
       "        text-align: right;\n",
       "    }\n",
       "\n",
       "    .dataframe thead th {\n",
       "        text-align: left;\n",
       "    }\n",
       "\n",
       "    .dataframe tbody tr th {\n",
       "        vertical-align: top;\n",
       "    }\n",
       "</style>\n",
       "<table border=\"1\" class=\"dataframe\">\n",
       "  <thead>\n",
       "    <tr style=\"text-align: right;\">\n",
       "      <th></th>\n",
       "      <th>id</th>\n",
       "      <th>imdb_id</th>\n",
       "      <th>popularity</th>\n",
       "      <th>budget</th>\n",
       "      <th>revenue</th>\n",
       "      <th>original_title</th>\n",
       "      <th>cast</th>\n",
       "      <th>homepage</th>\n",
       "      <th>director</th>\n",
       "      <th>tagline</th>\n",
       "      <th>...</th>\n",
       "      <th>overview</th>\n",
       "      <th>runtime</th>\n",
       "      <th>genres</th>\n",
       "      <th>production_companies</th>\n",
       "      <th>release_date</th>\n",
       "      <th>vote_count</th>\n",
       "      <th>vote_average</th>\n",
       "      <th>release_year</th>\n",
       "      <th>budget_adj</th>\n",
       "      <th>revenue_adj</th>\n",
       "    </tr>\n",
       "  </thead>\n",
       "  <tbody>\n",
       "    <tr>\n",
       "      <th>0</th>\n",
       "      <td>135397</td>\n",
       "      <td>tt0369610</td>\n",
       "      <td>32.985763</td>\n",
       "      <td>150000000</td>\n",
       "      <td>1513528810</td>\n",
       "      <td>Jurassic World</td>\n",
       "      <td>Chris Pratt|Bryce Dallas Howard|Irrfan Khan|Vi...</td>\n",
       "      <td>http://www.jurassicworld.com/</td>\n",
       "      <td>Colin Trevorrow</td>\n",
       "      <td>The park is open.</td>\n",
       "      <td>...</td>\n",
       "      <td>Twenty-two years after the events of Jurassic ...</td>\n",
       "      <td>124</td>\n",
       "      <td>Action|Adventure|Science Fiction|Thriller</td>\n",
       "      <td>Universal Studios|Amblin Entertainment|Legenda...</td>\n",
       "      <td>6/9/15</td>\n",
       "      <td>5562</td>\n",
       "      <td>6.5</td>\n",
       "      <td>2015</td>\n",
       "      <td>1.379999e+08</td>\n",
       "      <td>1.392446e+09</td>\n",
       "    </tr>\n",
       "    <tr>\n",
       "      <th>1</th>\n",
       "      <td>76341</td>\n",
       "      <td>tt1392190</td>\n",
       "      <td>28.419936</td>\n",
       "      <td>150000000</td>\n",
       "      <td>378436354</td>\n",
       "      <td>Mad Max: Fury Road</td>\n",
       "      <td>Tom Hardy|Charlize Theron|Hugh Keays-Byrne|Nic...</td>\n",
       "      <td>http://www.madmaxmovie.com/</td>\n",
       "      <td>George Miller</td>\n",
       "      <td>What a Lovely Day.</td>\n",
       "      <td>...</td>\n",
       "      <td>An apocalyptic story set in the furthest reach...</td>\n",
       "      <td>120</td>\n",
       "      <td>Action|Adventure|Science Fiction|Thriller</td>\n",
       "      <td>Village Roadshow Pictures|Kennedy Miller Produ...</td>\n",
       "      <td>5/13/15</td>\n",
       "      <td>6185</td>\n",
       "      <td>7.1</td>\n",
       "      <td>2015</td>\n",
       "      <td>1.379999e+08</td>\n",
       "      <td>3.481613e+08</td>\n",
       "    </tr>\n",
       "    <tr>\n",
       "      <th>2</th>\n",
       "      <td>262500</td>\n",
       "      <td>tt2908446</td>\n",
       "      <td>13.112507</td>\n",
       "      <td>110000000</td>\n",
       "      <td>295238201</td>\n",
       "      <td>Insurgent</td>\n",
       "      <td>Shailene Woodley|Theo James|Kate Winslet|Ansel...</td>\n",
       "      <td>http://www.thedivergentseries.movie/#insurgent</td>\n",
       "      <td>Robert Schwentke</td>\n",
       "      <td>One Choice Can Destroy You</td>\n",
       "      <td>...</td>\n",
       "      <td>Beatrice Prior must confront her inner demons ...</td>\n",
       "      <td>119</td>\n",
       "      <td>Adventure|Science Fiction|Thriller</td>\n",
       "      <td>Summit Entertainment|Mandeville Films|Red Wago...</td>\n",
       "      <td>3/18/15</td>\n",
       "      <td>2480</td>\n",
       "      <td>6.3</td>\n",
       "      <td>2015</td>\n",
       "      <td>1.012000e+08</td>\n",
       "      <td>2.716190e+08</td>\n",
       "    </tr>\n",
       "    <tr>\n",
       "      <th>3</th>\n",
       "      <td>140607</td>\n",
       "      <td>tt2488496</td>\n",
       "      <td>11.173104</td>\n",
       "      <td>200000000</td>\n",
       "      <td>2068178225</td>\n",
       "      <td>Star Wars: The Force Awakens</td>\n",
       "      <td>Harrison Ford|Mark Hamill|Carrie Fisher|Adam D...</td>\n",
       "      <td>http://www.starwars.com/films/star-wars-episod...</td>\n",
       "      <td>J.J. Abrams</td>\n",
       "      <td>Every generation has a story.</td>\n",
       "      <td>...</td>\n",
       "      <td>Thirty years after defeating the Galactic Empi...</td>\n",
       "      <td>136</td>\n",
       "      <td>Action|Adventure|Science Fiction|Fantasy</td>\n",
       "      <td>Lucasfilm|Truenorth Productions|Bad Robot</td>\n",
       "      <td>12/15/15</td>\n",
       "      <td>5292</td>\n",
       "      <td>7.5</td>\n",
       "      <td>2015</td>\n",
       "      <td>1.839999e+08</td>\n",
       "      <td>1.902723e+09</td>\n",
       "    </tr>\n",
       "    <tr>\n",
       "      <th>4</th>\n",
       "      <td>168259</td>\n",
       "      <td>tt2820852</td>\n",
       "      <td>9.335014</td>\n",
       "      <td>190000000</td>\n",
       "      <td>1506249360</td>\n",
       "      <td>Furious 7</td>\n",
       "      <td>Vin Diesel|Paul Walker|Jason Statham|Michelle ...</td>\n",
       "      <td>http://www.furious7.com/</td>\n",
       "      <td>James Wan</td>\n",
       "      <td>Vengeance Hits Home</td>\n",
       "      <td>...</td>\n",
       "      <td>Deckard Shaw seeks revenge against Dominic Tor...</td>\n",
       "      <td>137</td>\n",
       "      <td>Action|Crime|Thriller</td>\n",
       "      <td>Universal Pictures|Original Film|Media Rights ...</td>\n",
       "      <td>4/1/15</td>\n",
       "      <td>2947</td>\n",
       "      <td>7.3</td>\n",
       "      <td>2015</td>\n",
       "      <td>1.747999e+08</td>\n",
       "      <td>1.385749e+09</td>\n",
       "    </tr>\n",
       "  </tbody>\n",
       "</table>\n",
       "<p>5 rows × 21 columns</p>\n",
       "</div>"
      ],
      "text/plain": [
       "       id    imdb_id  popularity     budget     revenue  \\\n",
       "0  135397  tt0369610   32.985763  150000000  1513528810   \n",
       "1   76341  tt1392190   28.419936  150000000   378436354   \n",
       "2  262500  tt2908446   13.112507  110000000   295238201   \n",
       "3  140607  tt2488496   11.173104  200000000  2068178225   \n",
       "4  168259  tt2820852    9.335014  190000000  1506249360   \n",
       "\n",
       "                 original_title  \\\n",
       "0                Jurassic World   \n",
       "1            Mad Max: Fury Road   \n",
       "2                     Insurgent   \n",
       "3  Star Wars: The Force Awakens   \n",
       "4                     Furious 7   \n",
       "\n",
       "                                                cast  \\\n",
       "0  Chris Pratt|Bryce Dallas Howard|Irrfan Khan|Vi...   \n",
       "1  Tom Hardy|Charlize Theron|Hugh Keays-Byrne|Nic...   \n",
       "2  Shailene Woodley|Theo James|Kate Winslet|Ansel...   \n",
       "3  Harrison Ford|Mark Hamill|Carrie Fisher|Adam D...   \n",
       "4  Vin Diesel|Paul Walker|Jason Statham|Michelle ...   \n",
       "\n",
       "                                            homepage          director  \\\n",
       "0                      http://www.jurassicworld.com/   Colin Trevorrow   \n",
       "1                        http://www.madmaxmovie.com/     George Miller   \n",
       "2     http://www.thedivergentseries.movie/#insurgent  Robert Schwentke   \n",
       "3  http://www.starwars.com/films/star-wars-episod...       J.J. Abrams   \n",
       "4                           http://www.furious7.com/         James Wan   \n",
       "\n",
       "                         tagline      ...       \\\n",
       "0              The park is open.      ...        \n",
       "1             What a Lovely Day.      ...        \n",
       "2     One Choice Can Destroy You      ...        \n",
       "3  Every generation has a story.      ...        \n",
       "4            Vengeance Hits Home      ...        \n",
       "\n",
       "                                            overview runtime  \\\n",
       "0  Twenty-two years after the events of Jurassic ...     124   \n",
       "1  An apocalyptic story set in the furthest reach...     120   \n",
       "2  Beatrice Prior must confront her inner demons ...     119   \n",
       "3  Thirty years after defeating the Galactic Empi...     136   \n",
       "4  Deckard Shaw seeks revenge against Dominic Tor...     137   \n",
       "\n",
       "                                      genres  \\\n",
       "0  Action|Adventure|Science Fiction|Thriller   \n",
       "1  Action|Adventure|Science Fiction|Thriller   \n",
       "2         Adventure|Science Fiction|Thriller   \n",
       "3   Action|Adventure|Science Fiction|Fantasy   \n",
       "4                      Action|Crime|Thriller   \n",
       "\n",
       "                                production_companies release_date vote_count  \\\n",
       "0  Universal Studios|Amblin Entertainment|Legenda...       6/9/15       5562   \n",
       "1  Village Roadshow Pictures|Kennedy Miller Produ...      5/13/15       6185   \n",
       "2  Summit Entertainment|Mandeville Films|Red Wago...      3/18/15       2480   \n",
       "3          Lucasfilm|Truenorth Productions|Bad Robot     12/15/15       5292   \n",
       "4  Universal Pictures|Original Film|Media Rights ...       4/1/15       2947   \n",
       "\n",
       "   vote_average  release_year    budget_adj   revenue_adj  \n",
       "0           6.5          2015  1.379999e+08  1.392446e+09  \n",
       "1           7.1          2015  1.379999e+08  3.481613e+08  \n",
       "2           6.3          2015  1.012000e+08  2.716190e+08  \n",
       "3           7.5          2015  1.839999e+08  1.902723e+09  \n",
       "4           7.3          2015  1.747999e+08  1.385749e+09  \n",
       "\n",
       "[5 rows x 21 columns]"
      ]
     },
     "execution_count": 2,
     "metadata": {},
     "output_type": "execute_result"
    }
   ],
   "source": [
    "# loading the data set\n",
    "movie_df = pd.read_csv('data/tmdb-movies.csv')\n",
    "movie_df.head()"
   ]
  },
  {
   "cell_type": "markdown",
   "metadata": {},
   "source": [
    "<a id='w1'></a>\n",
    "### Data Cleaning - Removing duplicates rows and empty rows"
   ]
  },
  {
   "cell_type": "markdown",
   "metadata": {},
   "source": [
    "Now we have removed unused rows and data, and we are going to remove the null rows and duplicated data that can affect on our results."
   ]
  },
  {
   "cell_type": "code",
   "execution_count": 3,
   "metadata": {},
   "outputs": [
    {
     "data": {
      "text/plain": [
       "1"
      ]
     },
     "execution_count": 3,
     "metadata": {},
     "output_type": "execute_result"
    }
   ],
   "source": [
    "#chcking total number of duplicate rows\n",
    "sum(movie_df.duplicated())"
   ]
  },
  {
   "cell_type": "code",
   "execution_count": 4,
   "metadata": {
    "collapsed": true
   },
   "outputs": [],
   "source": [
    "#drop the duplicate rows\n",
    "movie_df.drop_duplicates(inplace=True)"
   ]
  },
  {
   "cell_type": "code",
   "execution_count": 5,
   "metadata": {},
   "outputs": [
    {
     "data": {
      "text/plain": [
       "id                         0\n",
       "imdb_id                   10\n",
       "popularity                 0\n",
       "budget                     0\n",
       "revenue                    0\n",
       "original_title             0\n",
       "cast                      76\n",
       "homepage                7929\n",
       "director                  44\n",
       "tagline                 2824\n",
       "keywords                1493\n",
       "overview                   4\n",
       "runtime                    0\n",
       "genres                    23\n",
       "production_companies    1030\n",
       "release_date               0\n",
       "vote_count                 0\n",
       "vote_average               0\n",
       "release_year               0\n",
       "budget_adj                 0\n",
       "revenue_adj                0\n",
       "dtype: int64"
      ]
     },
     "execution_count": 5,
     "metadata": {},
     "output_type": "execute_result"
    }
   ],
   "source": [
    "#checking for null values\n",
    "movie_df.isnull().sum()"
   ]
  },
  {
   "cell_type": "code",
   "execution_count": 6,
   "metadata": {
    "scrolled": true
   },
   "outputs": [
    {
     "name": "stdout",
     "output_type": "stream",
     "text": [
      "<class 'pandas.core.frame.DataFrame'>\n",
      "Int64Index: 10767 entries, 0 to 10865\n",
      "Data columns (total 21 columns):\n",
      "id                      10767 non-null int64\n",
      "imdb_id                 10759 non-null object\n",
      "popularity              10767 non-null float64\n",
      "budget                  10767 non-null int64\n",
      "revenue                 10767 non-null int64\n",
      "original_title          10767 non-null object\n",
      "cast                    10767 non-null object\n",
      "homepage                2903 non-null object\n",
      "director                10731 non-null object\n",
      "tagline                 8010 non-null object\n",
      "keywords                9322 non-null object\n",
      "overview                10764 non-null object\n",
      "runtime                 10767 non-null int64\n",
      "genres                  10767 non-null object\n",
      "production_companies    9791 non-null object\n",
      "release_date            10767 non-null object\n",
      "vote_count              10767 non-null int64\n",
      "vote_average            10767 non-null float64\n",
      "release_year            10767 non-null int64\n",
      "budget_adj              10767 non-null float64\n",
      "revenue_adj             10767 non-null float64\n",
      "dtypes: float64(4), int64(6), object(11)\n",
      "memory usage: 1.8+ MB\n"
     ]
    }
   ],
   "source": [
    "#dropping the null values where row is genres and cast\n",
    "movie_df.dropna(subset=['genres'], inplace=True)  \n",
    "movie_df.dropna(subset=['cast'], inplace=True)  \n",
    "movie_df.info()"
   ]
  },
  {
   "cell_type": "markdown",
   "metadata": {},
   "source": [
    "<a id='eda'></a>\n",
    "## Exploratory Data Analysis\n",
    "\n",
    "<a id='q1'></a>\n",
    "### Which genres are most popular from year to year? "
   ]
  },
  {
   "cell_type": "markdown",
   "metadata": {},
   "source": [
    "**Answer:** Drama genres is most popular from year to year. Where History, TV Movies and western movies have lowest popularity."
   ]
  },
  {
   "cell_type": "code",
   "execution_count": 7,
   "metadata": {
    "collapsed": true
   },
   "outputs": [],
   "source": [
    "'''\n",
    "gettig the most populer generes from the dataset\n",
    "'''\n",
    "def most_popular_genres(df):\n",
    "    # splitting the genres and adding it in the data_generes\n",
    "    list_genres = df['genres'].str.cat(sep=\"|\").split(\"|\")\n",
    "    #setting ascending true\n",
    "    list_genres = pd.Series(list_genres).value_counts(ascending=True) \n",
    "    return list_genres"
   ]
  },
  {
   "cell_type": "code",
   "execution_count": 8,
   "metadata": {},
   "outputs": [
    {
     "data": {
      "text/plain": [
       "<matplotlib.legend.Legend at 0x7f1374e2a1d0>"
      ]
     },
     "execution_count": 8,
     "metadata": {},
     "output_type": "execute_result"
    },
    {
     "data": {
      "image/png": "[encoded data removed]",
      "text/plain": [
       "<matplotlib.figure.Figure at 0x7f1374e530f0>"
      ]
     },
     "metadata": {},
     "output_type": "display_data"
    }
   ],
   "source": [
    "# getting the most popular generes\n",
    "most_pop_genres = most_popular_genres(movie_df)\n",
    "# plotting the horizontal bar graph\n",
    "sns.set(style=\"whitegrid\")\n",
    "\n",
    "graph = most_pop_genres.plot.barh(color=sns.color_palette(\"Blues\",1))\n",
    "graph.set_title(\"Most Popular Genres\", fontsize=18, fontweight='bold')\n",
    "graph.set_xlabel(\"Number of Movies\", fontsize=16)\n",
    "graph.set_ylabel(\"List of Genres\", fontsize=16)\n",
    "graph.legend(['Genres'], loc = \"lower right\")"
   ]
  },
  {
   "cell_type": "markdown",
   "metadata": {},
   "source": [
    "<a id='q2'></a>\n",
    "### What kinds of properties are associated with movies that have high revenues?"
   ]
  },
  {
   "cell_type": "markdown",
   "metadata": {},
   "source": [
    "**Answer:** For movies that have high revenues are generally associated with casts, revenues, budget and movie production company. I have made this analysis based on it’s genres, popularity, revenues and budget.\n",
    "Following type of properties associated with high revenues movies\n",
    "- Genres type: Adventure\n",
    "- Population mean: 9.763478\n",
    "- Revenues mean: 1645656693.200000 dollars\n",
    "- Budget mean: 195200000.000000 dollars\n",
    "\n",
    "Standard deviation for the revenue is 117472853.73722987 in dollars."
   ]
  },
  {
   "cell_type": "code",
   "execution_count": 9,
   "metadata": {},
   "outputs": [
    {
     "data": {
      "text/plain": [
       "117472853.73722987"
      ]
     },
     "execution_count": 9,
     "metadata": {},
     "output_type": "execute_result"
    }
   ],
   "source": [
    "#standard deviation of revenue\n",
    "revenue_std = np.std(movie_df['revenue'])\n",
    "revenue_std"
   ]
  },
  {
   "cell_type": "code",
   "execution_count": 10,
   "metadata": {
    "collapsed": true
   },
   "outputs": [],
   "source": [
    "# below method returns the 10th time higher value than revenue_std\n",
    "def get_high_revenue_data():\n",
    "    properties = []\n",
    "    df = pd.DataFrame()\n",
    "    for data_point in movie_df.loc[:,'revenue']:\n",
    "            if data_point > (10.0 * revenue_std):\n",
    "                properties.append(movie_df.loc[movie_df['revenue'] == data_point])\n",
    "    return df.append(properties)"
   ]
  },
  {
   "cell_type": "code",
   "execution_count": 11,
   "metadata": {},
   "outputs": [
    {
     "data": {
      "text/plain": [
       "Drama              1\n",
       "Animation          1\n",
       "Romance            1\n",
       "Crime              1\n",
       "Family             2\n",
       "Thriller           3\n",
       "Fantasy            3\n",
       "Science Fiction    6\n",
       "Action             7\n",
       "Adventure          8\n",
       "dtype: int64"
      ]
     },
     "execution_count": 11,
     "metadata": {},
     "output_type": "execute_result"
    }
   ],
   "source": [
    "higher_revenue_df = get_high_revenue_data()\n",
    "most_popular_genres(higher_revenue_df)"
   ]
  },
  {
   "cell_type": "code",
   "execution_count": 12,
   "metadata": {
    "collapsed": true
   },
   "outputs": [],
   "source": [
    "#this function gives the discription of data field and visualization of data\n",
    "def describe_data(data, title): \n",
    "    print ('Mean of %s is %f' % (title, np.mean(data))) \n",
    "    print ('Standard Deviation of %s is %f' % (title, np.std(data)))\n",
    "    print ('Minimum of %s is %f ' % (title, np.min(data)))\n",
    "    print ('Maximum of %s is %f ' %(title, np.max(data)))\n",
    "    print ('-----------------------------------')"
   ]
  },
  {
   "cell_type": "code",
   "execution_count": 13,
   "metadata": {},
   "outputs": [
    {
     "name": "stdout",
     "output_type": "stream",
     "text": [
      "Mean of Revenue is 1645656693.200000\n",
      "Standard Deviation of Revenue is 452017096.505688\n",
      "Minimum of Revenue is 1215439994.000000 \n",
      "Maximum of Revenue is 2781505847.000000 \n",
      "-----------------------------------\n",
      "Mean of Budget is 195200000.000000\n",
      "Standard Deviation of Budget is 43201388.866563\n",
      "Minimum of Budget is 125000000.000000 \n",
      "Maximum of Budget is 280000000.000000 \n",
      "-----------------------------------\n",
      "Mean of Popularity is 9.763478\n",
      "Standard Deviation of Popularity is 8.017844\n",
      "Minimum of Popularity is 4.355219 \n",
      "Maximum of Popularity is 32.985763 \n",
      "-----------------------------------\n"
     ]
    }
   ],
   "source": [
    "# displaying the description of the data\n",
    "describe_data(higher_revenue_df['revenue'],\"Revenue\")\n",
    "describe_data(higher_revenue_df['budget'],\"Budget\")\n",
    "describe_data(higher_revenue_df['popularity'],\"Popularity\")"
   ]
  },
  {
   "cell_type": "markdown",
   "metadata": {},
   "source": [
    "<a id='q3'></a>\n",
    "### How movies budget and popularity changes over the years?"
   ]
  },
  {
   "cell_type": "markdown",
   "metadata": {},
   "source": [
    "**Answer:** Here we have grouped the dataset to the years and displayed the graph of it. \n",
    "- First graph displays the how budget of movies are increased over the years. \n",
    "\n",
    "- Second graph displays the popularity of the movies in graph."
   ]
  },
  {
   "cell_type": "code",
   "execution_count": 14,
   "metadata": {},
   "outputs": [
    {
     "data": {
      "text/html": [
       "<div>\n",
       "<style>\n",
       "    .dataframe thead tr:only-child th {\n",
       "        text-align: right;\n",
       "    }\n",
       "\n",
       "    .dataframe thead th {\n",
       "        text-align: left;\n",
       "    }\n",
       "\n",
       "    .dataframe tbody tr th {\n",
       "        vertical-align: top;\n",
       "    }\n",
       "</style>\n",
       "<table border=\"1\" class=\"dataframe\">\n",
       "  <thead>\n",
       "    <tr style=\"text-align: right;\">\n",
       "      <th></th>\n",
       "      <th>release_year</th>\n",
       "      <th>id</th>\n",
       "      <th>popularity</th>\n",
       "      <th>budget</th>\n",
       "      <th>revenue</th>\n",
       "      <th>runtime</th>\n",
       "      <th>vote_count</th>\n",
       "      <th>vote_average</th>\n",
       "      <th>budget_adj</th>\n",
       "      <th>revenue_adj</th>\n",
       "    </tr>\n",
       "  </thead>\n",
       "  <tbody>\n",
       "    <tr>\n",
       "      <th>0</th>\n",
       "      <td>1960</td>\n",
       "      <td>15715.281250</td>\n",
       "      <td>0.458932</td>\n",
       "      <td>6.892796e+05</td>\n",
       "      <td>4.531406e+06</td>\n",
       "      <td>110.656250</td>\n",
       "      <td>77.531250</td>\n",
       "      <td>6.325000</td>\n",
       "      <td>5.082036e+06</td>\n",
       "      <td>3.340991e+07</td>\n",
       "    </tr>\n",
       "    <tr>\n",
       "      <th>1</th>\n",
       "      <td>1961</td>\n",
       "      <td>18657.000000</td>\n",
       "      <td>0.422827</td>\n",
       "      <td>1.488290e+06</td>\n",
       "      <td>1.089420e+07</td>\n",
       "      <td>119.419355</td>\n",
       "      <td>77.580645</td>\n",
       "      <td>6.374194</td>\n",
       "      <td>1.085687e+07</td>\n",
       "      <td>7.947167e+07</td>\n",
       "    </tr>\n",
       "    <tr>\n",
       "      <th>2</th>\n",
       "      <td>1962</td>\n",
       "      <td>17001.062500</td>\n",
       "      <td>0.454783</td>\n",
       "      <td>1.710066e+06</td>\n",
       "      <td>6.736870e+06</td>\n",
       "      <td>124.343750</td>\n",
       "      <td>74.750000</td>\n",
       "      <td>6.343750</td>\n",
       "      <td>1.232693e+07</td>\n",
       "      <td>4.856238e+07</td>\n",
       "    </tr>\n",
       "    <tr>\n",
       "      <th>3</th>\n",
       "      <td>1963</td>\n",
       "      <td>16556.000000</td>\n",
       "      <td>0.502706</td>\n",
       "      <td>2.156809e+06</td>\n",
       "      <td>5.511911e+06</td>\n",
       "      <td>111.323529</td>\n",
       "      <td>82.823529</td>\n",
       "      <td>6.329412</td>\n",
       "      <td>1.535687e+07</td>\n",
       "      <td>3.924580e+07</td>\n",
       "    </tr>\n",
       "    <tr>\n",
       "      <th>4</th>\n",
       "      <td>1964</td>\n",
       "      <td>17379.571429</td>\n",
       "      <td>0.412428</td>\n",
       "      <td>9.400753e+05</td>\n",
       "      <td>8.118614e+06</td>\n",
       "      <td>109.214286</td>\n",
       "      <td>74.690476</td>\n",
       "      <td>6.211905</td>\n",
       "      <td>6.608980e+06</td>\n",
       "      <td>5.707603e+07</td>\n",
       "    </tr>\n",
       "  </tbody>\n",
       "</table>\n",
       "</div>"
      ],
      "text/plain": [
       "   release_year            id  popularity        budget       revenue  \\\n",
       "0          1960  15715.281250    0.458932  6.892796e+05  4.531406e+06   \n",
       "1          1961  18657.000000    0.422827  1.488290e+06  1.089420e+07   \n",
       "2          1962  17001.062500    0.454783  1.710066e+06  6.736870e+06   \n",
       "3          1963  16556.000000    0.502706  2.156809e+06  5.511911e+06   \n",
       "4          1964  17379.571429    0.412428  9.400753e+05  8.118614e+06   \n",
       "\n",
       "      runtime  vote_count  vote_average    budget_adj   revenue_adj  \n",
       "0  110.656250   77.531250      6.325000  5.082036e+06  3.340991e+07  \n",
       "1  119.419355   77.580645      6.374194  1.085687e+07  7.947167e+07  \n",
       "2  124.343750   74.750000      6.343750  1.232693e+07  4.856238e+07  \n",
       "3  111.323529   82.823529      6.329412  1.535687e+07  3.924580e+07  \n",
       "4  109.214286   74.690476      6.211905  6.608980e+06  5.707603e+07  "
      ]
     },
     "execution_count": 14,
     "metadata": {},
     "output_type": "execute_result"
    }
   ],
   "source": [
    "data_movie = movie_df.groupby(['release_year'],as_index=False).mean()\n",
    "data_movie.head()"
   ]
  },
  {
   "cell_type": "code",
   "execution_count": 15,
   "metadata": {},
   "outputs": [
    {
     "data": {
      "image/png": "[encoded data removed]",
      "text/plain": [
       "<matplotlib.figure.Figure at 0x7f1374d4d1d0>"
      ]
     },
     "metadata": {},
     "output_type": "display_data"
    }
   ],
   "source": [
    "sns.set(style=\"whitegrid\")\n",
    "fig = plt.bar(data_movie[\"release_year\"], data_movie[\"budget\"], color=sns.color_palette(\"muted\",1))\n",
    "\n",
    "plt.title('Budget over the years', fontsize=18, fontweight='bold')\n",
    "plt.xlabel('Years', fontsize=16)\n",
    "plt.ylabel('Budget', fontsize=16)\n",
    "plt.legend(fig, ['Budget'], loc = \"upper left\")\n",
    "plt.show()"
   ]
  },
  {
   "cell_type": "markdown",
   "metadata": {},
   "source": [
    "The graph shows the how popularity changes over the year. We have set movie years in X-axis and budget in Y-axis. From the graph we can say that the popularity of the movie has increased in mid 90’s. And in the year of 2000 the popularity has reached its maximum saturation point. In the graph it looks in year 2015 the popularity is half of the year 2000."
   ]
  },
  {
   "cell_type": "code",
   "execution_count": 16,
   "metadata": {},
   "outputs": [
    {
     "data": {
      "image/png": "[encoded data removed]",
      "text/plain": [
       "<matplotlib.figure.Figure at 0x7f1374d43588>"
      ]
     },
     "metadata": {},
     "output_type": "display_data"
    }
   ],
   "source": [
    "data_movie = movie_df.groupby(['release_year'],as_index=False).mean()\n",
    "\n",
    "sns.set(style=\"whitegrid\")\n",
    "plt.scatter(data_movie[\"release_year\"], data_movie[\"popularity\"], color=sns.color_palette(\"dark\",1))\n",
    "plt.title('Popularity over the years', fontsize=18, fontweight='bold')\n",
    "plt.xlabel('Years', fontsize=16)\n",
    "plt.ylabel('Popularity', fontsize=16)\n",
    "plt.legend(['Popularity'], loc = \"upper left\")\n",
    "plt.show()"
   ]
  },
  {
   "cell_type": "markdown",
   "metadata": {},
   "source": [
    "As per the graph we can say that the popularity of the movies are increasing over the time. The data can be further analysis by the region, known language and the age of the peoples."
   ]
  },
  {
   "cell_type": "markdown",
   "metadata": {},
   "source": [
    "<a id='q4'></a>\n",
    "### Top 5 grossing movies"
   ]
  },
  {
   "cell_type": "markdown",
   "metadata": {},
   "source": [
    "**Answer:** Star Wars (1977), Avatar(2009), Titanic(1997), The Exorcist(1973), Jaws(1975)"
   ]
  },
  {
   "cell_type": "code",
   "execution_count": 17,
   "metadata": {},
   "outputs": [
    {
     "data": {
      "text/html": [
       "<div>\n",
       "<style>\n",
       "    .dataframe thead tr:only-child th {\n",
       "        text-align: right;\n",
       "    }\n",
       "\n",
       "    .dataframe thead th {\n",
       "        text-align: left;\n",
       "    }\n",
       "\n",
       "    .dataframe tbody tr th {\n",
       "        vertical-align: top;\n",
       "    }\n",
       "</style>\n",
       "<table border=\"1\" class=\"dataframe\">\n",
       "  <thead>\n",
       "    <tr style=\"text-align: right;\">\n",
       "      <th></th>\n",
       "      <th>profit_adj</th>\n",
       "      <th>release_year</th>\n",
       "      <th>title</th>\n",
       "    </tr>\n",
       "  </thead>\n",
       "  <tbody>\n",
       "    <tr>\n",
       "      <th>1329</th>\n",
       "      <td>2.750137e+09</td>\n",
       "      <td>1977</td>\n",
       "      <td>Star Wars</td>\n",
       "    </tr>\n",
       "    <tr>\n",
       "      <th>1386</th>\n",
       "      <td>2.586237e+09</td>\n",
       "      <td>2009</td>\n",
       "      <td>Avatar</td>\n",
       "    </tr>\n",
       "    <tr>\n",
       "      <th>5231</th>\n",
       "      <td>2.234714e+09</td>\n",
       "      <td>1997</td>\n",
       "      <td>Titanic</td>\n",
       "    </tr>\n",
       "    <tr>\n",
       "      <th>10594</th>\n",
       "      <td>2.128036e+09</td>\n",
       "      <td>1973</td>\n",
       "      <td>The Exorcist</td>\n",
       "    </tr>\n",
       "    <tr>\n",
       "      <th>9806</th>\n",
       "      <td>1.878643e+09</td>\n",
       "      <td>1975</td>\n",
       "      <td>Jaws</td>\n",
       "    </tr>\n",
       "  </tbody>\n",
       "</table>\n",
       "</div>"
      ],
      "text/plain": [
       "         profit_adj  release_year         title\n",
       "1329   2.750137e+09          1977     Star Wars\n",
       "1386   2.586237e+09          2009        Avatar\n",
       "5231   2.234714e+09          1997       Titanic\n",
       "10594  2.128036e+09          1973  The Exorcist\n",
       "9806   1.878643e+09          1975          Jaws"
      ]
     },
     "execution_count": 17,
     "metadata": {},
     "output_type": "execute_result"
    }
   ],
   "source": [
    "#here we get the net profit from the revenue and budget\n",
    "profit_adj = movie_df['revenue_adj'] - movie_df['budget_adj']\n",
    "highest_grossing_film_df = pd.DataFrame({'title':movie_df['original_title'], 'profit_adj':profit_adj, 'release_year': movie_df['release_year']})\n",
    "highest_grossing_film_df = highest_grossing_film_df.sort_values(['profit_adj'], ascending=False)\n",
    "highest_grossing_film_df.head()"
   ]
  },
  {
   "cell_type": "markdown",
   "metadata": {},
   "source": [
    "<a id='q5'></a>\n",
    "### Top 5 casted actors"
   ]
  },
  {
   "cell_type": "markdown",
   "metadata": {},
   "source": [
    "**Answer:** Robert De Niro(72),  Samual L. Jackson(71), Bruce Wills(62), Nicolas Cage(61), Michael Caine(53)"
   ]
  },
  {
   "cell_type": "code",
   "execution_count": 18,
   "metadata": {},
   "outputs": [
    {
     "data": {
      "text/plain": [
       "<matplotlib.legend.Legend at 0x7f136c122400>"
      ]
     },
     "execution_count": 18,
     "metadata": {},
     "output_type": "execute_result"
    },
    {
     "data": {
      "image/png": "[encoded data removed]",
      "text/plain": [
       "<matplotlib.figure.Figure at 0x7f136c122320>"
      ]
     },
     "metadata": {},
     "output_type": "display_data"
    }
   ],
   "source": [
    "actors_list = movie_df[\"cast\"].str.cat(sep=\"|\").split(\"|\")\n",
    "actors=pd.Series(actors_list).value_counts(ascending=True)[-10:]\n",
    "\n",
    "# plotting the horizontal bar graph\n",
    "sns.set(style=\"whitegrid\")\n",
    "\n",
    "graph = actors.plot.barh(color=sns.color_palette(\"Blues\",1))\n",
    "graph.set_title(\"Top Casted Actors\", fontsize=18, fontweight='bold')\n",
    "graph.set_xlabel(\"Number of time casted.\", fontsize=16)\n",
    "graph.set_ylabel(\"Casts\", fontsize=16)\n",
    "graph.legend(['Casts'], loc = \"lower right\")"
   ]
  },
  {
   "cell_type": "code",
   "execution_count": 19,
   "metadata": {},
   "outputs": [
    {
     "data": {
      "text/plain": [
       "Susan Sarandon       48\n",
       "John Goodman         49\n",
       "Morgan Freeman       49\n",
       "John Cusack          50\n",
       "Robin Williams       51\n",
       "Michael Caine        53\n",
       "Nicolas Cage         61\n",
       "Bruce Willis         62\n",
       "Samuel L. Jackson    71\n",
       "Robert De Niro       72\n",
       "dtype: int64"
      ]
     },
     "execution_count": 19,
     "metadata": {},
     "output_type": "execute_result"
    }
   ],
   "source": [
    "actors"
   ]
  },
  {
   "cell_type": "markdown",
   "metadata": {},
   "source": [
    "<a id='q6'></a>\n",
    "### Top 5 voted movies"
   ]
  },
  {
   "cell_type": "markdown",
   "metadata": {},
   "source": [
    "**Answer:**: Inception(9767), The Avengers(8903), Avatar(8458), The Dark Knight(8432), Django Unchained(7375)"
   ]
  },
  {
   "cell_type": "code",
   "execution_count": 20,
   "metadata": {},
   "outputs": [
    {
     "data": {
      "text/html": [
       "<div>\n",
       "<style>\n",
       "    .dataframe thead tr:only-child th {\n",
       "        text-align: right;\n",
       "    }\n",
       "\n",
       "    .dataframe thead th {\n",
       "        text-align: left;\n",
       "    }\n",
       "\n",
       "    .dataframe tbody tr th {\n",
       "        vertical-align: top;\n",
       "    }\n",
       "</style>\n",
       "<table border=\"1\" class=\"dataframe\">\n",
       "  <thead>\n",
       "    <tr style=\"text-align: right;\">\n",
       "      <th></th>\n",
       "      <th>release_year</th>\n",
       "      <th>title</th>\n",
       "      <th>vote_average</th>\n",
       "      <th>vote_count</th>\n",
       "    </tr>\n",
       "  </thead>\n",
       "  <tbody>\n",
       "    <tr>\n",
       "      <th>1919</th>\n",
       "      <td>2010</td>\n",
       "      <td>Inception</td>\n",
       "      <td>7.9</td>\n",
       "      <td>9767</td>\n",
       "    </tr>\n",
       "    <tr>\n",
       "      <th>4361</th>\n",
       "      <td>2012</td>\n",
       "      <td>The Avengers</td>\n",
       "      <td>7.3</td>\n",
       "      <td>8903</td>\n",
       "    </tr>\n",
       "    <tr>\n",
       "      <th>1386</th>\n",
       "      <td>2009</td>\n",
       "      <td>Avatar</td>\n",
       "      <td>7.1</td>\n",
       "      <td>8458</td>\n",
       "    </tr>\n",
       "    <tr>\n",
       "      <th>2875</th>\n",
       "      <td>2008</td>\n",
       "      <td>The Dark Knight</td>\n",
       "      <td>8.1</td>\n",
       "      <td>8432</td>\n",
       "    </tr>\n",
       "    <tr>\n",
       "      <th>4364</th>\n",
       "      <td>2012</td>\n",
       "      <td>Django Unchained</td>\n",
       "      <td>7.7</td>\n",
       "      <td>7375</td>\n",
       "    </tr>\n",
       "  </tbody>\n",
       "</table>\n",
       "</div>"
      ],
      "text/plain": [
       "      release_year             title  vote_average  vote_count\n",
       "1919          2010         Inception           7.9        9767\n",
       "4361          2012      The Avengers           7.3        8903\n",
       "1386          2009            Avatar           7.1        8458\n",
       "2875          2008   The Dark Knight           8.1        8432\n",
       "4364          2012  Django Unchained           7.7        7375"
      ]
     },
     "execution_count": 20,
     "metadata": {},
     "output_type": "execute_result"
    }
   ],
   "source": [
    "# sorting movie by 'vote_count'\n",
    "movies_sorted_by_vote = movie_df.sort_values(['vote_count'], ascending=False)\n",
    "highest_voted_movies = pd.DataFrame({'title': movies_sorted_by_vote['original_title'], 'vote_count': movies_sorted_by_vote['vote_count'],'release_year':movies_sorted_by_vote['release_year'], 'vote_average':movies_sorted_by_vote['vote_average']})\n",
    "highest_voted_movies.head()"
   ]
  },
  {
   "cell_type": "markdown",
   "metadata": {},
   "source": [
    "<a id='conclusions'></a>\n",
    "## Conclusions\n",
    "From this analysis we have have found the popular genres and associated properties with it. We have calculated the top grossing movies, casted actors and voted movies. We have also made analysis for budget and popularity with the years. We found that the popularity of the movies are increasing over the time. From the popularity and the budget over the time we found that the popularity do not have any relationship with the budget of movie. The main limitation of this analysis is the null values and duplicate rows. Although we have removed such data from our analysis, but it can be affects the central tendency of the data. Future scope of the analysis will be the the casts with the big budget movies, the total movies done by specific actors."
   ]
  },
  {
   "cell_type": "markdown",
   "metadata": {},
   "source": [
    "## References:\n",
    "\n",
    "- http://www.gregreda.com/2013/10/26/using-pandas-on-the-movielens-dataset/\n",
    "- https://seaborn.pydata.org/examples/\n"
   ]
  }
 ],
 "metadata": {
  "anaconda-cloud": {},
  "kernelspec": {
   "display_name": "Python 3",
   "language": "python",
   "name": "python3"
  },
  "language_info": {
   "codemirror_mode": {
    "name": "ipython",
    "version": 3
   },
   "file_extension": ".py",
   "mimetype": "text/x-python",
   "name": "python",
   "nbconvert_exporter": "python",
   "pygments_lexer": "ipython3",
   "version": "3.6.3"
  }
 },
 "nbformat": 4,
 "nbformat_minor": 2
}
